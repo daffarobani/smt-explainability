{
 "cells": [
  {
   "cell_type": "code",
   "execution_count": 1,
   "metadata": {},
   "outputs": [],
   "source": [
    "from smt.surrogate_models import KRG\n",
    "from smt_explainability.problems import MixedCantileverBeam\n",
    "from smt.design_space import (\n",
    "    DesignSpace,\n",
    "    FloatVariable,\n",
    "    CategoricalVariable,\n",
    ")\n",
    "from smt.surrogate_models import (\n",
    "    KPLS,\n",
    "    MixIntKernelType,\n",
    "    MixHrcKernelType,\n",
    ")\n",
    "from smt.applications.mixed_integer import MixedIntegerKrigingModel\n",
    "\n",
    "from smt_explainability.shap.shap_display import ShapDisplay\n",
    "from smt_explainability.shap.shap_feature_importance_display import ShapFeatureImportanceDisplay\n",
    "\n",
    "from sklearn.metrics import mean_squared_error\n",
    "import numpy as np\n",
    "import time"
   ]
  },
  {
   "cell_type": "code",
   "execution_count": 2,
   "metadata": {},
   "outputs": [],
   "source": [
    "ndoe = 300\n",
    "n_train = int(0.8 * ndoe)\n",
    "fun = MixedCantileverBeam()\n",
    "# Name of the features\n",
    "feature_names = [r'$\\tilde{I}$', r'$L$', r'$S$']\n",
    "# Index for categorical features\n",
    "categorical_feature_indices = [0]\n",
    "# Design space\n",
    "ds = DesignSpace([\n",
    "    CategoricalVariable(values=[str(i + 1) for i in range(12)]),\n",
    "    FloatVariable(10.0, 20.0),\n",
    "    FloatVariable(1.0, 2.0),\n",
    "])\n",
    "# create mapping for the categories\n",
    "categories_map = dict()\n",
    "inverse_categories_map = dict()\n",
    "for feature_idx in categorical_feature_indices:\n",
    "    categories_map[feature_idx] = {\n",
    "        i: value for i, value in enumerate(ds._design_variables[feature_idx].values)\n",
    "    }\n",
    "    inverse_categories_map[feature_idx] = {\n",
    "        value: i for i, value in enumerate(ds._design_variables[feature_idx].values)\n",
    "    }\n",
    "\n",
    "X = fun.sample(ndoe)\n",
    "y = fun(X)\n",
    "\n",
    "X_tr, y_tr = X[:n_train, :], y[:n_train]\n",
    "X_te, y_te = X[n_train:, :], y[n_train:]\n",
    "\n",
    "class GroundTruthModel:\n",
    "    def predict_values(self, X):\n",
    "        return fun(X)\n",
    "    \n",
    "gtm = GroundTruthModel()"
   ]
  },
  {
   "cell_type": "code",
   "execution_count": 3,
   "metadata": {},
   "outputs": [
    {
     "name": "stderr",
     "output_type": "stream",
     "text": [
      "/Users/muhammaddaffarobani/miniconda3/envs/smt_ex_310/lib/python3.10/site-packages/smt/applications/mixed_integer.py:208: UserWarning: TNC not available yet for mixed integer handling. Switching to Cobyla\n",
      "  warnings.warn(\n"
     ]
    },
    {
     "name": "stdout",
     "output_type": "stream",
     "text": [
      "run time (s): 35.65931701660156\n",
      "Surrogate model\n",
      "RMSE: 0.0000\n",
      "rRMSE: 0.0200\n"
     ]
    },
    {
     "name": "stderr",
     "output_type": "stream",
     "text": [
      "/Users/muhammaddaffarobani/miniconda3/envs/smt_ex_310/lib/python3.10/site-packages/sklearn/metrics/_regression.py:492: FutureWarning: 'squared' is deprecated in version 1.4 and will be removed in 1.6. To calculate the root mean squared error, use the function'root_mean_squared_error'.\n",
      "  warnings.warn(\n"
     ]
    }
   ],
   "source": [
    "sm = MixedIntegerKrigingModel(\n",
    "    surrogate=KPLS(\n",
    "        design_space=ds,\n",
    "        categorical_kernel=MixIntKernelType.HOMO_HSPHERE,\n",
    "        hierarchical_kernel=MixHrcKernelType.ARC_KERNEL,\n",
    "        theta0=np.array([4.43799547e-04, 4.39993134e-01, 1.59631650e+00]),\n",
    "        corr=\"squar_exp\",\n",
    "        n_start=1,\n",
    "        cat_kernel_comps=[2],\n",
    "        n_comp=2,\n",
    "        print_global=False,\n",
    "        ),\n",
    "    )\n",
    "\n",
    "\n",
    "start_time = time.time()\n",
    "sm.set_training_values(X_tr, np.array(y_tr))\n",
    "sm.train()\n",
    "print(\"run time (s):\", time.time() - start_time)\n",
    "\n",
    "print(\"Surrogate model\")\n",
    "y_pred = sm.predict_values(X_te)\n",
    "rmse = mean_squared_error(y_te, y_pred, squared=False)\n",
    "rrmse = rmse / y_te.mean()\n",
    "print(f\"RMSE: {rmse:.4f}\")\n",
    "print(f\"rRMSE: {rrmse:.4f}\")"
   ]
  },
  {
   "cell_type": "code",
   "execution_count": 4,
   "metadata": {},
   "outputs": [],
   "source": [
    "instances = X_tr\n",
    "model = sm\n",
    "\n",
    "kernel_shap_explainer = ShapDisplay.from_surrogate_model(\n",
    "    instances, \n",
    "    model, \n",
    "    X_tr, \n",
    "    feature_names=feature_names,\n",
    "    categorical_feature_indices=categorical_feature_indices,\n",
    "    categories_map=categories_map,\n",
    "    method=\"kernel\",\n",
    ")"
   ]
  },
  {
   "cell_type": "code",
   "execution_count": 5,
   "metadata": {},
   "outputs": [],
   "source": [
    "instances = X_tr\n",
    "model = sm\n",
    "\n",
    "exact_shap_explainer = ShapDisplay.from_surrogate_model(\n",
    "    instances, \n",
    "    model, \n",
    "    X_tr, \n",
    "    feature_names=feature_names,\n",
    "    categorical_feature_indices=categorical_feature_indices,\n",
    "    categories_map=categories_map,\n",
    "    method=\"exact\",\n",
    ")"
   ]
  },
  {
   "cell_type": "code",
   "execution_count": 20,
   "metadata": {},
   "outputs": [],
   "source": [
    "kernel_shap_dependence_plot = kernel_shap_explainer.dependence_plot([0, 1, 2], sort_based_on_importance=False)\n",
    "kernel_shap_dependence_plot.savefig(\"kernel_shap_dependence_mixed.png\")\n",
    "\n",
    "exact_shap_dependence_plot = exact_shap_explainer.dependence_plot([0, 1, 2], sort_based_on_importance=False)\n",
    "exact_shap_dependence_plot.savefig(\"exact_shap_dependence_mixed.png\")"
   ]
  },
  {
   "cell_type": "code",
   "execution_count": 9,
   "metadata": {},
   "outputs": [],
   "source": [
    "kernel_shap_feature_importance = ShapFeatureImportanceDisplay.from_surrogate_model(\n",
    "    sm, \n",
    "    X_tr, \n",
    "    feature_names=feature_names,\n",
    "    method=\"kernel\",\n",
    "    categorical_feature_indices=categorical_feature_indices,\n",
    ")\n",
    "\n",
    "exact_shap_feature_importance = ShapFeatureImportanceDisplay.from_surrogate_model(\n",
    "    sm, \n",
    "    X_tr, \n",
    "    feature_names=feature_names,\n",
    "    method=\"exact\",\n",
    "    categorical_feature_indices=categorical_feature_indices,\n",
    ")"
   ]
  },
  {
   "cell_type": "code",
   "execution_count": 13,
   "metadata": {},
   "outputs": [],
   "source": [
    "kernel_shap_feature_importance_plot = kernel_shap_feature_importance.plot()\n",
    "kernel_shap_feature_importance_plot.savefig(\"kernel_shap_importance_mixed.png\")\n",
    "\n",
    "exact_shap_feature_importance_plot_plot = exact_shap_feature_importance.plot()\n",
    "exact_shap_feature_importance_plot_plot.savefig(\"exact_shap_importance_mixed.png\")"
   ]
  },
  {
   "cell_type": "code",
   "execution_count": 14,
   "metadata": {},
   "outputs": [],
   "source": [
    "kernel_shap_summary_plot = kernel_shap_explainer.summary_plot()\n",
    "kernel_shap_summary_plot.savefig(\"kernel_shap_summary_mixed.png\")\n",
    "\n",
    "exact_shap_summary_plot = exact_shap_explainer.summary_plot()\n",
    "exact_shap_summary_plot.savefig(\"exact_shap_summary_mixed.png\")"
   ]
  },
  {
   "cell_type": "code",
   "execution_count": 17,
   "metadata": {},
   "outputs": [],
   "source": [
    "feature_pairs = [(2, 1), (1, 0)]\n",
    "kernel_shap_interaction_plot = kernel_shap_explainer.interaction_plot(\n",
    "    feature_pairs, \n",
    "    n_color=5,\n",
    "    sort_based_on_importance={0: False},\n",
    ")\n",
    "exact_shap_interaction_plot = exact_shap_explainer.interaction_plot(\n",
    "    feature_pairs, \n",
    "    n_color=5,\n",
    "    sort_based_on_importance={0: False},\n",
    ")\n",
    "\n",
    "kernel_shap_interaction_plot.savefig(\"kernel_shap_interaction_mixed.png\")\n",
    "exact_shap_interaction_plot.savefig(\"exact_shap_interaction_mixed.png\")"
   ]
  },
  {
   "cell_type": "code",
   "execution_count": 21,
   "metadata": {},
   "outputs": [
    {
     "name": "stderr",
     "output_type": "stream",
     "text": [
      "/Users/muhammaddaffarobani/Documents/personal_research/smt-explainability/smt_explainability/shap/shap_display.py:180: RuntimeWarning: More than 20 figures have been opened. Figures created through the pyplot interface (`matplotlib.pyplot.figure`) are retained until explicitly closed and may consume too much memory. (To control this warning, see the rcParam `figure.max_open_warning`). Consider using `matplotlib.pyplot.close()`.\n",
      "  fig, ax = plt.subplots(1, 1, figsize=(length, width))\n"
     ]
    }
   ],
   "source": [
    "kernel_shap_individual_plot = kernel_shap_explainer.individual_plot(index=10)\n",
    "kernel_shap_individual_plot.savefig(\"kernel_shap_individual_mixed.png\")\n",
    "\n",
    "exact_shap_individual_plot = exact_shap_explainer.individual_plot(index=10)\n",
    "exact_shap_individual_plot.savefig(\"exact_shap_individual_mixed.png\")"
   ]
  }
 ],
 "metadata": {
  "kernelspec": {
   "display_name": "smt_ex_310",
   "language": "python",
   "name": "python3"
  },
  "language_info": {
   "codemirror_mode": {
    "name": "ipython",
    "version": 3
   },
   "file_extension": ".py",
   "mimetype": "text/x-python",
   "name": "python",
   "nbconvert_exporter": "python",
   "pygments_lexer": "ipython3",
   "version": "3.10.12"
  }
 },
 "nbformat": 4,
 "nbformat_minor": 2
}
