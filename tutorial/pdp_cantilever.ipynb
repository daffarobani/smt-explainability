{
 "cells": [
  {
   "cell_type": "code",
   "execution_count": 2,
   "metadata": {},
   "outputs": [],
   "source": [
    "from smt.surrogate_models import KRG\n",
    "from smt_explainability.problems import MixedCantileverBeam\n",
    "from smt.design_space import (\n",
    "    DesignSpace,\n",
    "    FloatVariable,\n",
    "    CategoricalVariable,\n",
    ")\n",
    "from smt.surrogate_models import (\n",
    "    KPLS,\n",
    "    MixIntKernelType,\n",
    "    MixHrcKernelType,\n",
    ")\n",
    "from smt.applications.mixed_integer import MixedIntegerKrigingModel\n",
    "\n",
    "from smt_explainability.pdp.partial_dependence_display import PartialDependenceDisplay\n",
    "from smt_explainability.pdp.pd_feature_importance_display import PDFeatureImportanceDisplay\n",
    "from smt_explainability.pdp.pd_interaction_display import PDFeatureInteractionDisplay\n",
    "\n",
    "from sklearn.metrics import mean_squared_error\n",
    "import numpy as np\n",
    "import time"
   ]
  },
  {
   "cell_type": "code",
   "execution_count": 3,
   "metadata": {},
   "outputs": [],
   "source": [
    "ndoe = 200\n",
    "n_train = int(0.8 * ndoe)\n",
    "fun = MixedCantileverBeam()\n",
    "# Name of the features\n",
    "feature_names = [r'$\\tilde{I}$', r'$L$', r'$S$']\n",
    "# Index for categorical features\n",
    "categorical_feature_indices = [0]\n",
    "# Design space\n",
    "ds = DesignSpace([\n",
    "    CategoricalVariable(values=[str(i + 1) for i in range(12)]),\n",
    "    FloatVariable(10.0, 20.0),\n",
    "    FloatVariable(1.0, 2.0),\n",
    "])\n",
    "# create mapping for the categories\n",
    "categories_map = dict()\n",
    "inverse_categories_map = dict()\n",
    "for feature_idx in categorical_feature_indices:\n",
    "    categories_map[feature_idx] = {\n",
    "        i: value for i, value in enumerate(ds._design_variables[feature_idx].values)\n",
    "    }\n",
    "    inverse_categories_map[feature_idx] = {\n",
    "        value: i for i, value in enumerate(ds._design_variables[feature_idx].values)\n",
    "    }\n",
    "\n",
    "X = fun.sample(ndoe)\n",
    "y = fun(X)\n",
    "\n",
    "X_tr, y_tr = X[:n_train, :], y[:n_train]\n",
    "X_te, y_te = X[n_train:, :], y[n_train:]\n",
    "\n",
    "class GroundTruthModel:\n",
    "    def predict_values(self, X):\n",
    "        return fun(X)\n",
    "    \n",
    "gtm = GroundTruthModel()"
   ]
  },
  {
   "cell_type": "code",
   "execution_count": 4,
   "metadata": {},
   "outputs": [
    {
     "name": "stderr",
     "output_type": "stream",
     "text": [
      "/Users/muhammaddaffarobani/miniconda3/envs/smt_ex_310/lib/python3.10/site-packages/smt/applications/mixed_integer.py:208: UserWarning: TNC not available yet for mixed integer handling. Switching to Cobyla\n",
      "  warnings.warn(\n"
     ]
    },
    {
     "name": "stdout",
     "output_type": "stream",
     "text": [
      "run time (s): 29.985137224197388\n",
      "Surrogate model\n",
      "RMSE: 0.0001\n",
      "rRMSE: 0.1204\n"
     ]
    },
    {
     "name": "stderr",
     "output_type": "stream",
     "text": [
      "/Users/muhammaddaffarobani/miniconda3/envs/smt_ex_310/lib/python3.10/site-packages/sklearn/metrics/_regression.py:492: FutureWarning: 'squared' is deprecated in version 1.4 and will be removed in 1.6. To calculate the root mean squared error, use the function'root_mean_squared_error'.\n",
      "  warnings.warn(\n"
     ]
    }
   ],
   "source": [
    "sm = MixedIntegerKrigingModel(\n",
    "    surrogate=KPLS(\n",
    "        design_space=ds,\n",
    "        categorical_kernel=MixIntKernelType.HOMO_HSPHERE,\n",
    "        hierarchical_kernel=MixHrcKernelType.ARC_KERNEL,\n",
    "        theta0=np.array([4.43799547e-04, 4.39993134e-01, 1.59631650e+00]),\n",
    "        corr=\"squar_exp\",\n",
    "        n_start=1,\n",
    "        cat_kernel_comps=[2],\n",
    "        n_comp=2,\n",
    "        print_global=False,\n",
    "        ),\n",
    "    )\n",
    "\n",
    "start_time = time.time()\n",
    "sm.set_training_values(X_tr, np.array(y_tr))\n",
    "sm.train()\n",
    "print(\"run time (s):\", time.time() - start_time)\n",
    "\n",
    "print(\"Surrogate model\")\n",
    "y_pred = sm.predict_values(X_te)\n",
    "rmse = mean_squared_error(y_te, y_pred, squared=False)\n",
    "rrmse = rmse / y_te.mean()\n",
    "print(f\"RMSE: {rmse:.4f}\")\n",
    "print(f\"rRMSE: {rrmse:.4f}\")"
   ]
  },
  {
   "cell_type": "code",
   "execution_count": 5,
   "metadata": {},
   "outputs": [],
   "source": [
    "model = gtm\n",
    "\n",
    "gt_pd_importance = PDFeatureImportanceDisplay.from_surrogate_model(\n",
    "    model, X_tr, feature_names=feature_names, categorical_feature_indices=categorical_feature_indices\n",
    ")\n",
    "gt_pd_importance_plot = gt_pd_importance.plot(figsize=[8, 4])\n",
    "gt_pd_importance_plot.savefig('gt_pd_importance_mixed.png')"
   ]
  },
  {
   "cell_type": "code",
   "execution_count": 6,
   "metadata": {},
   "outputs": [],
   "source": [
    "model = sm\n",
    "\n",
    "sm_pd_importance = PDFeatureImportanceDisplay.from_surrogate_model(\n",
    "    model, X_tr, feature_names=feature_names, categorical_feature_indices=categorical_feature_indices\n",
    ")\n",
    "sm_pd_importance_plot = sm_pd_importance.plot(figsize=[8, 4])\n",
    "sm_pd_importance_plot.savefig('sm_pd_importance_mixed.png')"
   ]
  },
  {
   "cell_type": "code",
   "execution_count": 7,
   "metadata": {},
   "outputs": [],
   "source": [
    "model = gtm\n",
    "\n",
    "features = [i for i in range(X_tr.shape[1])]\n",
    "\n",
    "gt_pdd = PartialDependenceDisplay.from_surrogate_model(\n",
    "    model, \n",
    "    X_tr, \n",
    "    features, \n",
    "    categorical_feature_indices=categorical_feature_indices, \n",
    "    feature_names=feature_names,\n",
    "    grid_resolution=20,\n",
    "    kind='both',\n",
    "    categories_map=categories_map,\n",
    "    )\n",
    "\n",
    "gt_pdd_plot_1d = gt_pdd.plot(centered=True)\n",
    "gt_pdd_plot_1d.savefig('gt_pdd_1d_mixed.png')"
   ]
  },
  {
   "cell_type": "code",
   "execution_count": 8,
   "metadata": {},
   "outputs": [
    {
     "name": "stdout",
     "output_type": "stream",
     "text": [
      "CPU times: user 29.5 s, sys: 1min 13s, total: 1min 43s\n",
      "Wall time: 13.8 s\n"
     ]
    }
   ],
   "source": [
    "%%time\n",
    "model = sm\n",
    "\n",
    "features = [i for i in range(X_tr.shape[1])]\n",
    "\n",
    "pdd = PartialDependenceDisplay.from_surrogate_model(\n",
    "    model, \n",
    "    X_tr, \n",
    "    features, \n",
    "    categorical_feature_indices=categorical_feature_indices, \n",
    "    feature_names=feature_names,\n",
    "    grid_resolution=20,\n",
    "    kind='both',\n",
    "    categories_map=categories_map,\n",
    "    )\n",
    "\n",
    "pdd_plot_1d = pdd.plot(centered=True)\n",
    "pdd_plot_1d.savefig('sm_pdd_1d_mixed.png')"
   ]
  },
  {
   "cell_type": "code",
   "execution_count": 9,
   "metadata": {},
   "outputs": [],
   "source": [
    "model = gtm\n",
    "features = [(0, 1), (1, 2)]\n",
    "\n",
    "gt_pdd_2d = PartialDependenceDisplay.from_surrogate_model(\n",
    "    model, \n",
    "    X_tr, \n",
    "    features, \n",
    "    categorical_feature_indices=categorical_feature_indices, \n",
    "    feature_names=feature_names,\n",
    "    grid_resolution=10,\n",
    "    kind='both',\n",
    "    categories_map=categories_map,\n",
    "    )\n",
    "\n",
    "gt_pdd_plot_2d = gt_pdd_2d.plot(centered=True, figsize=[20, 5])\n",
    "gt_pdd_plot_2d.savefig('gt_pdd_2d_mixed.png')"
   ]
  },
  {
   "cell_type": "code",
   "execution_count": 10,
   "metadata": {},
   "outputs": [
    {
     "name": "stdout",
     "output_type": "stream",
     "text": [
      "CPU times: user 1min 58s, sys: 5min 10s, total: 7min 9s\n",
      "Wall time: 56.9 s\n"
     ]
    }
   ],
   "source": [
    "%%time\n",
    "model = sm\n",
    "features = [(0, 1), (1, 2)]\n",
    "\n",
    "pdd_2d = PartialDependenceDisplay.from_surrogate_model(\n",
    "    model, \n",
    "    X_tr, \n",
    "    features, \n",
    "    categorical_feature_indices=categorical_feature_indices, \n",
    "    feature_names=feature_names,\n",
    "    grid_resolution=10,\n",
    "    kind='both',\n",
    "    categories_map=categories_map,\n",
    "    )\n",
    "\n",
    "pdd_plot_2d = pdd_2d.plot(centered=True, figsize=[20, 5])\n",
    "pdd_plot_2d.savefig('sm_pdd_2d_mixed.png')"
   ]
  }
 ],
 "metadata": {
  "kernelspec": {
   "display_name": "smt_ex_310",
   "language": "python",
   "name": "python3"
  },
  "language_info": {
   "codemirror_mode": {
    "name": "ipython",
    "version": 3
   },
   "file_extension": ".py",
   "mimetype": "text/x-python",
   "name": "python",
   "nbconvert_exporter": "python",
   "pygments_lexer": "ipython3",
   "version": "3.10.12"
  }
 },
 "nbformat": 4,
 "nbformat_minor": 2
}
