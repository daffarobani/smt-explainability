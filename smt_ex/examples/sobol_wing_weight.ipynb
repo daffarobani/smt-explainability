{
  "cells": [
    {
      "cell_type": "markdown",
      "source": [],
      "metadata": {
        "id": "2ZTdj4OyD7xn"
      }
    },
    {
      "cell_type": "code",
      "source": [
        "!pip install -e \"git+https://github.com/daffarobani/smt-explainability.git\"#egg=smt-ex\n",
        "!pip install sobolsampling"
      ],
      "metadata": {
        "id": "ftmBUkMCAxI5",
        "outputId": "35b1daea-8159-410f-f987-de64d004c1f8",
        "colab": {
          "base_uri": "https://localhost:8080/"
        }
      },
      "execution_count": 1,
      "outputs": [
        {
          "output_type": "stream",
          "name": "stdout",
          "text": [
            "Obtaining smt-ex from git+https://github.com/daffarobani/smt-explainability.git#egg=smt-ex\n",
            "  Updating ./src/smt-ex clone\n",
            "  Running command git fetch -q --tags\n",
            "  Running command git reset --hard -q f11aeac616575ebe61df3c87288c1b891c780ac7\n",
            "  Installing build dependencies ... \u001b[?25l\u001b[?25hdone\n",
            "  Checking if build backend supports build_editable ... \u001b[?25l\u001b[?25hdone\n",
            "  Getting requirements to build editable ... \u001b[?25l\u001b[?25hdone\n",
            "  Preparing editable metadata (pyproject.toml) ... \u001b[?25l\u001b[?25hdone\n",
            "Requirement already satisfied: smt~=2.7.0 in /usr/local/lib/python3.10/dist-packages (from smt-ex) (2.7.0)\n",
            "Requirement already satisfied: scikit-learn in /usr/local/lib/python3.10/dist-packages (from smt~=2.7.0->smt-ex) (1.5.2)\n",
            "Requirement already satisfied: pyDOE3 in /usr/local/lib/python3.10/dist-packages (from smt~=2.7.0->smt-ex) (1.0.4)\n",
            "Requirement already satisfied: scipy in /usr/local/lib/python3.10/dist-packages (from smt~=2.7.0->smt-ex) (1.13.1)\n",
            "Requirement already satisfied: jenn in /usr/local/lib/python3.10/dist-packages (from smt~=2.7.0->smt-ex) (1.0.8)\n",
            "Requirement already satisfied: jsonpointer>=2.4 in /usr/local/lib/python3.10/dist-packages (from jenn->smt~=2.7.0->smt-ex) (3.0.0)\n",
            "Requirement already satisfied: jsonschema>=4.22 in /usr/local/lib/python3.10/dist-packages (from jenn->smt~=2.7.0->smt-ex) (4.23.0)\n",
            "Requirement already satisfied: orjson>=3.9 in /usr/local/lib/python3.10/dist-packages (from jenn->smt~=2.7.0->smt-ex) (3.10.10)\n",
            "Requirement already satisfied: numpy>=1.22 in /usr/local/lib/python3.10/dist-packages (from jenn->smt~=2.7.0->smt-ex) (1.26.4)\n",
            "Requirement already satisfied: matplotlib in /usr/local/lib/python3.10/dist-packages (from jenn->smt~=2.7.0->smt-ex) (3.8.0)\n",
            "Requirement already satisfied: joblib>=1.2.0 in /usr/local/lib/python3.10/dist-packages (from scikit-learn->smt~=2.7.0->smt-ex) (1.4.2)\n",
            "Requirement already satisfied: threadpoolctl>=3.1.0 in /usr/local/lib/python3.10/dist-packages (from scikit-learn->smt~=2.7.0->smt-ex) (3.5.0)\n",
            "Requirement already satisfied: attrs>=22.2.0 in /usr/local/lib/python3.10/dist-packages (from jsonschema>=4.22->jenn->smt~=2.7.0->smt-ex) (24.2.0)\n",
            "Requirement already satisfied: jsonschema-specifications>=2023.03.6 in /usr/local/lib/python3.10/dist-packages (from jsonschema>=4.22->jenn->smt~=2.7.0->smt-ex) (2024.10.1)\n",
            "Requirement already satisfied: referencing>=0.28.4 in /usr/local/lib/python3.10/dist-packages (from jsonschema>=4.22->jenn->smt~=2.7.0->smt-ex) (0.35.1)\n",
            "Requirement already satisfied: rpds-py>=0.7.1 in /usr/local/lib/python3.10/dist-packages (from jsonschema>=4.22->jenn->smt~=2.7.0->smt-ex) (0.20.0)\n",
            "Requirement already satisfied: contourpy>=1.0.1 in /usr/local/lib/python3.10/dist-packages (from matplotlib->jenn->smt~=2.7.0->smt-ex) (1.3.0)\n",
            "Requirement already satisfied: cycler>=0.10 in /usr/local/lib/python3.10/dist-packages (from matplotlib->jenn->smt~=2.7.0->smt-ex) (0.12.1)\n",
            "Requirement already satisfied: fonttools>=4.22.0 in /usr/local/lib/python3.10/dist-packages (from matplotlib->jenn->smt~=2.7.0->smt-ex) (4.54.1)\n",
            "Requirement already satisfied: kiwisolver>=1.0.1 in /usr/local/lib/python3.10/dist-packages (from matplotlib->jenn->smt~=2.7.0->smt-ex) (1.4.7)\n",
            "Requirement already satisfied: packaging>=20.0 in /usr/local/lib/python3.10/dist-packages (from matplotlib->jenn->smt~=2.7.0->smt-ex) (24.1)\n",
            "Requirement already satisfied: pillow>=6.2.0 in /usr/local/lib/python3.10/dist-packages (from matplotlib->jenn->smt~=2.7.0->smt-ex) (10.4.0)\n",
            "Requirement already satisfied: pyparsing>=2.3.1 in /usr/local/lib/python3.10/dist-packages (from matplotlib->jenn->smt~=2.7.0->smt-ex) (3.2.0)\n",
            "Requirement already satisfied: python-dateutil>=2.7 in /usr/local/lib/python3.10/dist-packages (from matplotlib->jenn->smt~=2.7.0->smt-ex) (2.8.2)\n",
            "Requirement already satisfied: six>=1.5 in /usr/local/lib/python3.10/dist-packages (from python-dateutil>=2.7->matplotlib->jenn->smt~=2.7.0->smt-ex) (1.16.0)\n",
            "Building wheels for collected packages: smt-ex\n",
            "  Building editable for smt-ex (pyproject.toml) ... \u001b[?25l\u001b[?25hdone\n",
            "  Created wheel for smt-ex: filename=SMT_EX-0.1.0-0.editable-py3-none-any.whl size=3879 sha256=da3b024ef5e8a1b9a7a94439f11b94563e595ebcf012057261effa8a4eb96c75\n",
            "  Stored in directory: /tmp/pip-ephem-wheel-cache-4bc08idh/wheels/15/62/c0/cc1e0450c8bbc4336537f9dc178005e194cb783cd9399062e3\n",
            "Successfully built smt-ex\n",
            "Installing collected packages: smt-ex\n",
            "  Attempting uninstall: smt-ex\n",
            "    Found existing installation: SMT-EX 0.1.0\n",
            "    Uninstalling SMT-EX-0.1.0:\n",
            "      Successfully uninstalled SMT-EX-0.1.0\n",
            "Successfully installed smt-ex-0.1.0\n",
            "Collecting sobolsampling\n",
            "  Using cached sobolsampling-0.1.3-py3-none-any.whl\n",
            "Requirement already satisfied: numpy in /usr/local/lib/python3.10/dist-packages (from sobolsampling) (1.26.4)\n",
            "Installing collected packages: sobolsampling\n",
            "Successfully installed sobolsampling-0.1.3\n"
          ]
        }
      ]
    },
    {
      "cell_type": "code",
      "source": [
        "import numpy as np\n",
        "import math\n",
        "\n",
        "import matplotlib.pyplot as plt\n",
        "from sklearn.metrics import mean_squared_error\n",
        "\n",
        "from smt.surrogate_models import KRG\n",
        "from smt.problems import WingWeight\n",
        "from smt.sampling_methods import LHS\n",
        "\n",
        "from smt_ex.sobol import SobolIndices\n",
        "from smt_ex.sobol import SobolIndicesDisplay"
      ],
      "metadata": {
        "id": "YwtxcpNtBpfJ"
      },
      "execution_count": 2,
      "outputs": []
    },
    {
      "cell_type": "code",
      "source": [
        "ndoe = 100\n",
        "fun = WingWeight()\n",
        "sampling = LHS(xlimits=fun.xlimits, criterion='ese', random_state=1)\n",
        "X = sampling(ndoe)\n",
        "y = fun(X)\n",
        "\n",
        "n_train = int(0.8 * ndoe)\n",
        "\n",
        "X_tr, y_tr = X[:n_train, :], y[:n_train]\n",
        "X_te, y_te = X[n_train:, :], y[n_train:]\n",
        "\n",
        "## config\n",
        "feature_names = [\n",
        "    r'$S_{w}$', r'$W_{fw}$', r'$A$', r'$\\Delta$',\n",
        "    r'$q$', r'$\\lambda$', r'$t_{c}$', r'$N_{z}$',\n",
        "    r'$W_{dg}$', r'$W_{p}$',\n",
        "]\n",
        "\n",
        "class GroundTruthModel:\n",
        "    def predict_values(self, X):\n",
        "        return fun(X)\n",
        "\n",
        "# kriging model\n",
        "sm = KRG(\n",
        "    theta0=[1e-2]*X_tr.shape[1],\n",
        "    print_prediction = False\n",
        "    )\n",
        "sm.set_training_values(\n",
        "    X_tr,\n",
        "    y_tr\n",
        "    )\n",
        "\n",
        "sm.train()\n",
        "\n",
        "print(\"Surrogate model\")\n",
        "y_pred = sm.predict_values(X_te)\n",
        "rmse = mean_squared_error(y_te, y_pred, squared=False)\n",
        "rrmse = rmse / y_te.mean()\n",
        "print(f\"RMSE: {rmse:.4f}\")\n",
        "print(f\"rRMSE: {rrmse:.4f}\")\n",
        "\n",
        "# ground truth model\n",
        "gtm = GroundTruthModel()"
      ],
      "metadata": {
        "id": "g_9CBHt9E_GO"
      },
      "execution_count": 3,
      "outputs": []
    }
  ],
  "metadata": {
    "language_info": {
      "name": "python"
    },
    "colab": {
      "provenance": []
    },
    "kernelspec": {
      "name": "python3",
      "display_name": "Python 3"
    }
  },
  "nbformat": 4,
  "nbformat_minor": 0
}